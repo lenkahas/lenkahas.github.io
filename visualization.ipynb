{
 "cells": [
  {
   "cell_type": "code",
   "execution_count": 1,
   "metadata": {},
   "outputs": [],
   "source": [
    "import pandas as pd\n",
    "import os\n",
    "import branca\n",
    "import numpy as np\n",
    "import geopandas as gpd\n",
    "import matplotlib.pyplot as plt\n",
    "import seaborn as sns\n",
    "import json\n",
    "import requests\n",
    "import folium as f\n",
    "import geojson\n",
    "from folium.features import GeoJsonPopup as pp\n",
    "import mapclassify as mc\n",
    "\n",
    "wgs84 = {'init':'EPSG:4326'}\n",
    "bng = {'init':'EPSG:27700'}"
   ]
  },
  {
   "cell_type": "code",
   "execution_count": 2,
   "metadata": {},
   "outputs": [],
   "source": [
    "# get the pharmacies in\n",
    "fl = './../../data/food hazard/lines.geojson'\n",
    "lines = gpd.read_file(fl)\n",
    "#lines2 = lines.to_json()"
   ]
  },
  {
   "cell_type": "code",
   "execution_count": 3,
   "metadata": {},
   "outputs": [],
   "source": [
    "lines = lines.rename(columns={'Country.of.Origin': 'Country of Origin', 'Notified.by':'Notified by','number.of.links':'Number of Food Hazards identified'  })"
   ]
  },
  {
   "cell_type": "code",
   "execution_count": 4,
   "metadata": {},
   "outputs": [],
   "source": [
    "fl = './../../data/food hazard/safety.csv'\n",
    "safety  = pd.read_csv(fl, index_col=None)"
   ]
  },
  {
   "cell_type": "code",
   "execution_count": 5,
   "metadata": {},
   "outputs": [],
   "source": [
    "# get the pharmacies in\n",
    "fl = './../../data/food hazard/points.geojson'\n",
    "points = gpd.read_file(fl)\n",
    "points = points.merge(safety, on = 'name', how = 'left')"
   ]
  },
  {
   "cell_type": "code",
   "execution_count": 6,
   "metadata": {},
   "outputs": [
    {
     "data": {
      "text/html": [
       "<div>\n",
       "<style scoped>\n",
       "    .dataframe tbody tr th:only-of-type {\n",
       "        vertical-align: middle;\n",
       "    }\n",
       "\n",
       "    .dataframe tbody tr th {\n",
       "        vertical-align: top;\n",
       "    }\n",
       "\n",
       "    .dataframe thead th {\n",
       "        text-align: right;\n",
       "    }\n",
       "</style>\n",
       "<table border=\"1\" class=\"dataframe\">\n",
       "  <thead>\n",
       "    <tr style=\"text-align: right;\">\n",
       "      <th></th>\n",
       "      <th>Name</th>\n",
       "      <th>x</th>\n",
       "      <th>y</th>\n",
       "      <th>degree</th>\n",
       "      <th>Country importance</th>\n",
       "      <th>out_degree</th>\n",
       "      <th>in_degree</th>\n",
       "      <th>geometry</th>\n",
       "      <th>Food Safety and Quality Rank (1 is the best)</th>\n",
       "      <th>Score</th>\n",
       "      <th>difference from previous year</th>\n",
       "      <th>Country Importance Rank (1 is the best)</th>\n",
       "    </tr>\n",
       "  </thead>\n",
       "  <tbody>\n",
       "    <tr>\n",
       "      <th>0</th>\n",
       "      <td>Afghanistan</td>\n",
       "      <td>66.004734</td>\n",
       "      <td>33.835231</td>\n",
       "      <td>6</td>\n",
       "      <td>0.040268</td>\n",
       "      <td>0.040268</td>\n",
       "      <td>0.040268</td>\n",
       "      <td>POINT (66.00473 33.83523)</td>\n",
       "      <td>NaN</td>\n",
       "      <td>NaN</td>\n",
       "      <td>NaN</td>\n",
       "      <td>107</td>\n",
       "    </tr>\n",
       "    <tr>\n",
       "      <th>2</th>\n",
       "      <td>Albania</td>\n",
       "      <td>20.049834</td>\n",
       "      <td>41.142450</td>\n",
       "      <td>20</td>\n",
       "      <td>0.134228</td>\n",
       "      <td>0.134228</td>\n",
       "      <td>0.134228</td>\n",
       "      <td>POINT (20.04983 41.14245)</td>\n",
       "      <td>NaN</td>\n",
       "      <td>NaN</td>\n",
       "      <td>NaN</td>\n",
       "      <td>83</td>\n",
       "    </tr>\n",
       "    <tr>\n",
       "      <th>35</th>\n",
       "      <td>Algeria</td>\n",
       "      <td>2.617323</td>\n",
       "      <td>28.158938</td>\n",
       "      <td>18</td>\n",
       "      <td>0.120805</td>\n",
       "      <td>0.120805</td>\n",
       "      <td>0.120805</td>\n",
       "      <td>POINT (2.61732 28.15894)</td>\n",
       "      <td>74.0</td>\n",
       "      <td>53.0</td>\n",
       "      <td>-4.6</td>\n",
       "      <td>85</td>\n",
       "    </tr>\n",
       "    <tr>\n",
       "      <th>3</th>\n",
       "      <td>Andorra</td>\n",
       "      <td>1.560544</td>\n",
       "      <td>42.542291</td>\n",
       "      <td>1</td>\n",
       "      <td>0.006711</td>\n",
       "      <td>0.006711</td>\n",
       "      <td>0.006711</td>\n",
       "      <td>POINT (1.56054 42.54229)</td>\n",
       "      <td>NaN</td>\n",
       "      <td>NaN</td>\n",
       "      <td>NaN</td>\n",
       "      <td>139</td>\n",
       "    </tr>\n",
       "    <tr>\n",
       "      <th>1</th>\n",
       "      <td>Angola</td>\n",
       "      <td>17.537368</td>\n",
       "      <td>-12.293361</td>\n",
       "      <td>1</td>\n",
       "      <td>0.006711</td>\n",
       "      <td>0.006711</td>\n",
       "      <td>0.006711</td>\n",
       "      <td>POINT (17.53737 -12.29336)</td>\n",
       "      <td>92.0</td>\n",
       "      <td>44.9</td>\n",
       "      <td>1.9</td>\n",
       "      <td>148</td>\n",
       "    </tr>\n",
       "    <tr>\n",
       "      <th>...</th>\n",
       "      <td>...</td>\n",
       "      <td>...</td>\n",
       "      <td>...</td>\n",
       "      <td>...</td>\n",
       "      <td>...</td>\n",
       "      <td>...</td>\n",
       "      <td>...</td>\n",
       "      <td>...</td>\n",
       "      <td>...</td>\n",
       "      <td>...</td>\n",
       "      <td>...</td>\n",
       "      <td>...</td>\n",
       "    </tr>\n",
       "    <tr>\n",
       "      <th>140</th>\n",
       "      <td>Uzbekistan</td>\n",
       "      <td>63.140015</td>\n",
       "      <td>41.755542</td>\n",
       "      <td>35</td>\n",
       "      <td>0.234899</td>\n",
       "      <td>0.234899</td>\n",
       "      <td>0.234899</td>\n",
       "      <td>POINT (63.14002 41.75554)</td>\n",
       "      <td>73.0</td>\n",
       "      <td>53.4</td>\n",
       "      <td>0.7</td>\n",
       "      <td>75</td>\n",
       "    </tr>\n",
       "    <tr>\n",
       "      <th>141</th>\n",
       "      <td>Venezuela</td>\n",
       "      <td>-66.181841</td>\n",
       "      <td>7.124224</td>\n",
       "      <td>55</td>\n",
       "      <td>0.369128</td>\n",
       "      <td>0.369128</td>\n",
       "      <td>0.369128</td>\n",
       "      <td>POINT (-66.18184 7.12422)</td>\n",
       "      <td>47.0</td>\n",
       "      <td>66.9</td>\n",
       "      <td>-0.1</td>\n",
       "      <td>59</td>\n",
       "    </tr>\n",
       "    <tr>\n",
       "      <th>142</th>\n",
       "      <td>Vietnam</td>\n",
       "      <td>106.299147</td>\n",
       "      <td>16.646017</td>\n",
       "      <td>440</td>\n",
       "      <td>2.953020</td>\n",
       "      <td>2.953020</td>\n",
       "      <td>2.953020</td>\n",
       "      <td>POINT (106.29915 16.64602)</td>\n",
       "      <td>77.0</td>\n",
       "      <td>51.7</td>\n",
       "      <td>0.3</td>\n",
       "      <td>19</td>\n",
       "    </tr>\n",
       "    <tr>\n",
       "      <th>143</th>\n",
       "      <td>Yemen</td>\n",
       "      <td>47.586762</td>\n",
       "      <td>15.909280</td>\n",
       "      <td>1</td>\n",
       "      <td>0.006711</td>\n",
       "      <td>0.006711</td>\n",
       "      <td>0.006711</td>\n",
       "      <td>POINT (47.58676 15.90928)</td>\n",
       "      <td>109.0</td>\n",
       "      <td>30.2</td>\n",
       "      <td>-0.9</td>\n",
       "      <td>142</td>\n",
       "    </tr>\n",
       "    <tr>\n",
       "      <th>145</th>\n",
       "      <td>Zimbabwe</td>\n",
       "      <td>29.851441</td>\n",
       "      <td>-19.004204</td>\n",
       "      <td>2</td>\n",
       "      <td>0.013423</td>\n",
       "      <td>0.013423</td>\n",
       "      <td>0.013423</td>\n",
       "      <td>POINT (29.85144 -19.00420)</td>\n",
       "      <td>NaN</td>\n",
       "      <td>NaN</td>\n",
       "      <td>NaN</td>\n",
       "      <td>128</td>\n",
       "    </tr>\n",
       "  </tbody>\n",
       "</table>\n",
       "<p>150 rows × 12 columns</p>\n",
       "</div>"
      ],
      "text/plain": [
       "            Name           x          y  degree  Country importance  \\\n",
       "0    Afghanistan   66.004734  33.835231       6            0.040268   \n",
       "2        Albania   20.049834  41.142450      20            0.134228   \n",
       "35       Algeria    2.617323  28.158938      18            0.120805   \n",
       "3        Andorra    1.560544  42.542291       1            0.006711   \n",
       "1         Angola   17.537368 -12.293361       1            0.006711   \n",
       "..           ...         ...        ...     ...                 ...   \n",
       "140   Uzbekistan   63.140015  41.755542      35            0.234899   \n",
       "141    Venezuela  -66.181841   7.124224      55            0.369128   \n",
       "142      Vietnam  106.299147  16.646017     440            2.953020   \n",
       "143        Yemen   47.586762  15.909280       1            0.006711   \n",
       "145     Zimbabwe   29.851441 -19.004204       2            0.013423   \n",
       "\n",
       "     out_degree  in_degree                    geometry  \\\n",
       "0      0.040268   0.040268   POINT (66.00473 33.83523)   \n",
       "2      0.134228   0.134228   POINT (20.04983 41.14245)   \n",
       "35     0.120805   0.120805    POINT (2.61732 28.15894)   \n",
       "3      0.006711   0.006711    POINT (1.56054 42.54229)   \n",
       "1      0.006711   0.006711  POINT (17.53737 -12.29336)   \n",
       "..          ...        ...                         ...   \n",
       "140    0.234899   0.234899   POINT (63.14002 41.75554)   \n",
       "141    0.369128   0.369128   POINT (-66.18184 7.12422)   \n",
       "142    2.953020   2.953020  POINT (106.29915 16.64602)   \n",
       "143    0.006711   0.006711   POINT (47.58676 15.90928)   \n",
       "145    0.013423   0.013423  POINT (29.85144 -19.00420)   \n",
       "\n",
       "     Food Safety and Quality Rank (1 is the best)  Score  \\\n",
       "0                                             NaN    NaN   \n",
       "2                                             NaN    NaN   \n",
       "35                                           74.0   53.0   \n",
       "3                                             NaN    NaN   \n",
       "1                                            92.0   44.9   \n",
       "..                                            ...    ...   \n",
       "140                                          73.0   53.4   \n",
       "141                                          47.0   66.9   \n",
       "142                                          77.0   51.7   \n",
       "143                                         109.0   30.2   \n",
       "145                                           NaN    NaN   \n",
       "\n",
       "     difference from previous year  Country Importance Rank (1 is the best)  \n",
       "0                              NaN                                      107  \n",
       "2                              NaN                                       83  \n",
       "35                            -4.6                                       85  \n",
       "3                              NaN                                      139  \n",
       "1                              1.9                                      148  \n",
       "..                             ...                                      ...  \n",
       "140                            0.7                                       75  \n",
       "141                           -0.1                                       59  \n",
       "142                            0.3                                       19  \n",
       "143                           -0.9                                      142  \n",
       "145                            NaN                                      128  \n",
       "\n",
       "[150 rows x 12 columns]"
      ]
     },
     "execution_count": 6,
     "metadata": {},
     "output_type": "execute_result"
    }
   ],
   "source": [
    "points = points.sort_values(['degree_centrality'], axis=0, ascending=False, inplace=False, kind='quicksort')\n",
    "points['rank'] = np.arange(1, 151, 1)\n",
    "points = points.sort_values(['name'], axis=0, ascending=True, inplace=False, kind='quicksort')\n",
    "points = points.rename(columns={'name':'Name', 'degree_centrality': 'Country importance', 'Rank':'Food Safety and Quality Rank (1 is the best)', 'rank': 'Country Importance Rank (1 is the best)'})\n",
    "points"
   ]
  },
  {
   "cell_type": "code",
   "execution_count": 7,
   "metadata": {},
   "outputs": [],
   "source": [
    "points2 = points.to_json()"
   ]
  },
  {
   "cell_type": "code",
   "execution_count": 8,
   "metadata": {},
   "outputs": [],
   "source": [
    "lines2 = lines.to_json()"
   ]
  },
  {
   "cell_type": "code",
   "execution_count": 9,
   "metadata": {},
   "outputs": [],
   "source": [
    "def ordinal(n):\n",
    "    if n == 1:\n",
    "        return \"st\"\n",
    "    elif n == 2:\n",
    "        return \"nd\"\n",
    "    elif n == 3:\n",
    "        return \"rd\"\n",
    "    else: \n",
    "        return \"th\""
   ]
  },
  {
   "cell_type": "code",
   "execution_count": 10,
   "metadata": {},
   "outputs": [
    {
     "data": {
      "text/plain": [
       "'th'"
      ]
     },
     "execution_count": 10,
     "metadata": {},
     "output_type": "execute_result"
    }
   ],
   "source": [
    "ordinal(5)"
   ]
  },
  {
   "cell_type": "markdown",
   "metadata": {},
   "source": [
    "m=f.Map(location=[50, 2], zoom_start=3 , tiles='cartodbpositron')\n",
    "\n",
    "f.TileLayer('CartoDB dark_matter').add_to(m)\n",
    "\n",
    "colordict = {0:'#374545' , 1: '#2f5565' , 2: '#24749f', 3: '#1892d9', 4: '#1892d9'}\n",
    "\n",
    "highlight_function = lambda x: {'fillColor': '#000000', \n",
    "                                'color':'#000000', \n",
    "                                'fillOpacity': 0.50, \n",
    "                                'weight': 0.1}\n",
    "style_function= lambda feature: {\n",
    "                'opacity': 2,\n",
    "                'weight': 0.2,\n",
    "                'color': \"#2F4F4F\"\n",
    "            }\n",
    "f.features.GeoJson(lines, \n",
    "                   control = True, name = 'Food Hazards',\n",
    "                  style_function=style_function,\n",
    "                  highlight_function=highlight_function).add_to(m)\n",
    "\n",
    "\n",
    "\n",
    "\n",
    "    \n",
    "f.LayerControl().add_to(m)\n",
    "\n",
    "#f.Choropleth(\n",
    "#    lines[lines.geometry.length>0.001],\n",
    "#    line_weight=1,\n",
    "#   line_color='blue',\n",
    "#    style_function=style_function\n",
    "#).add_to(m)\n",
    " \n",
    "\n",
    "    \n",
    "    \n",
    "#f.GeoJson(lines,name='lines').add_to(m)\n"
   ]
  },
  {
   "cell_type": "markdown",
   "metadata": {},
   "source": [
    "\n",
    "for x, y, name, degree, in_degree, out_degree, degree_quartile, rank, Rank in zip(points['x'], points['y'], points['name'], points['degree'], points['in_degree'],points['out_degree'], points['degree_quartile'], points['rank'], points['Rank']):\n",
    "    f.CircleMarker(\n",
    "        [y, x],\n",
    "        radius=(degree/100)+10,\n",
    "        popup = #f\"Route {rank} to {ordinal(rank)}\",\n",
    "        f.Popup(f\"<b>{str(name)}</b> <br> <br> Ranked <b>{str(rank)}</b>{str(ordinal(rank))} important identifier and <br> <b>{str(round(Rank,0))}</b>{str(ordinal(Rank))} in food Safety and Quality\" , max_width = 900),\n",
    "        color='b',\n",
    "        key_on = degree_quartile,\n",
    "        threshold_scale=[0,1,2,3],\n",
    "        fill_color=colordict[degree_quartile],\n",
    "        fill=True,\n",
    "        fill_opacity=0.8, control = True, name = 'Countries'\n",
    "        ).add_to(m)"
   ]
  },
  {
   "cell_type": "markdown",
   "metadata": {},
   "source": [
    "m"
   ]
  },
  {
   "cell_type": "code",
   "execution_count": 11,
   "metadata": {},
   "outputs": [
    {
     "ename": "NameError",
     "evalue": "name 'm' is not defined",
     "output_type": "error",
     "traceback": [
      "\u001b[1;31m---------------------------------------------------------------------------\u001b[0m",
      "\u001b[1;31mNameError\u001b[0m                                 Traceback (most recent call last)",
      "\u001b[1;32m<ipython-input-11-3c30e956eb0f>\u001b[0m in \u001b[0;36m<module>\u001b[1;34m\u001b[0m\n\u001b[1;32m----> 1\u001b[1;33m \u001b[0mm\u001b[0m\u001b[1;33m.\u001b[0m\u001b[0msave\u001b[0m\u001b[1;33m(\u001b[0m\u001b[1;34m'index.html'\u001b[0m\u001b[1;33m)\u001b[0m\u001b[1;33m\u001b[0m\u001b[1;33m\u001b[0m\u001b[0m\n\u001b[0m",
      "\u001b[1;31mNameError\u001b[0m: name 'm' is not defined"
     ]
    }
   ],
   "source": [
    "m.save('index.html')"
   ]
  },
  {
   "cell_type": "code",
   "execution_count": 14,
   "metadata": {},
   "outputs": [
    {
     "name": "stdout",
     "output_type": "stream",
     "text": [
      "User Guide: https://docs.kepler.gl/docs/keplergl-jupyter\n"
     ]
    }
   ],
   "source": [
    "# Load an empty map\n",
    "from keplergl import KeplerGl\n",
    "map_1 = KeplerGl(height=800)"
   ]
  },
  {
   "cell_type": "code",
   "execution_count": 15,
   "metadata": {},
   "outputs": [],
   "source": [
    "map_1.add_data(data=points2, name='Countries')\n"
   ]
  },
  {
   "cell_type": "code",
   "execution_count": 16,
   "metadata": {},
   "outputs": [],
   "source": [
    "map_1.add_data(data=lines2, name='Food Hazards')"
   ]
  },
  {
   "cell_type": "code",
   "execution_count": 17,
   "metadata": {},
   "outputs": [
    {
     "data": {
      "application/vnd.jupyter.widget-view+json": {
       "model_id": "aca93b8d592d47159dafaab743670177",
       "version_major": 2,
       "version_minor": 0
      },
      "text/plain": [
       "KeplerGl(data={'Countries': '{\"type\": \"FeatureCollection\", \"features\": [{\"id\": \"0\", \"type\": \"Feature\", \"proper…"
      ]
     },
     "metadata": {},
     "output_type": "display_data"
    }
   ],
   "source": [
    "map_1"
   ]
  },
  {
   "cell_type": "code",
   "execution_count": 20,
   "metadata": {},
   "outputs": [
    {
     "data": {
      "application/vnd.jupyter.widget-view+json": {
       "model_id": "aca93b8d592d47159dafaab743670177",
       "version_major": 2,
       "version_minor": 0
      },
      "text/plain": [
       "KeplerGl(config={'version': 'v1', 'config': {'visState': {'filters': [], 'layers': [{'id': '89okhlf', 'type': …"
      ]
     },
     "metadata": {},
     "output_type": "display_data"
    }
   ],
   "source": [
    "map_1"
   ]
  },
  {
   "cell_type": "code",
   "execution_count": 21,
   "metadata": {},
   "outputs": [
    {
     "name": "stdout",
     "output_type": "stream",
     "text": [
      "Map saved to index2.html!\n"
     ]
    }
   ],
   "source": [
    "map_1.save_to_html(file_name='index2.html', read_only=True)"
   ]
  },
  {
   "cell_type": "code",
   "execution_count": null,
   "metadata": {},
   "outputs": [],
   "source": []
  }
 ],
 "metadata": {
  "kernelspec": {
   "display_name": "Python 3",
   "language": "python",
   "name": "python3"
  },
  "language_info": {
   "codemirror_mode": {
    "name": "ipython",
    "version": 3
   },
   "file_extension": ".py",
   "mimetype": "text/x-python",
   "name": "python",
   "nbconvert_exporter": "python",
   "pygments_lexer": "ipython3",
   "version": "3.8.5"
  },
  "widgets": {
   "application/vnd.jupyter.widget-state+json": {
    "state": {},
    "version_major": 2,
    "version_minor": 0
   }
  }
 },
 "nbformat": 4,
 "nbformat_minor": 4
}
