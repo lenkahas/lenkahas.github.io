{
 "cells": [
  {
   "cell_type": "raw",
   "metadata": {},
   "source": [
    "---\n",
    "title: Food Hazards\n",
    "subtitle: Exploration Data Analysis\n",
    "summary: \n",
    "authors:\n",
    "- Lenka\n",
    "tags: []\n",
    "categories: [\"Python\"]\n",
    "date: \"2019-12-30T00:00:00Z\"\n",
    "lastMod: \"2019-12-30T00:00:00Z\"\n",
    "featured: false\n",
    "draft: false\n",
    "toc: true\n",
    "\n",
    "---"
   ]
  },
  {
   "cell_type": "markdown",
   "metadata": {},
   "source": [
    "## Introduction\n",
    "\n",
    "\n",
    "\n",
    "Here is some content I am writing. Blah blah blah. \n",
    "\n",
    "Speaking of Vietnamese, here is a video from Xin Chào on common Vietnamese greetings:\n",
    " \n",
    "{{< hp5 \"https://elearnvietnamese.h5p.com/content/1290436679514644339/embed\" >}}\n",
    "\n",
    "Additional content, blah blah blah...."
   ]
  },
  {
   "cell_type": "code",
   "execution_count": null,
   "metadata": {},
   "outputs": [],
   "source": []
  }
 ],
 "metadata": {
  "kernelspec": {
   "display_name": "Python 3",
   "language": "python",
   "name": "python3"
  },
  "language_info": {
   "codemirror_mode": {
    "name": "ipython",
    "version": 3
   },
   "file_extension": ".py",
   "mimetype": "text/x-python",
   "name": "python",
   "nbconvert_exporter": "python",
   "pygments_lexer": "ipython3",
   "version": "3.8.5"
  },
  "widgets": {
   "application/vnd.jupyter.widget-state+json": {
    "state": {},
    "version_major": 2,
    "version_minor": 0
   }
  }
 },
 "nbformat": 4,
 "nbformat_minor": 4
}
